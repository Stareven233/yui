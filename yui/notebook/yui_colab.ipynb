{
  "cells": [
    {
      "cell_type": "code",
      "execution_count": null,
      "metadata": {
        "colab": {
          "base_uri": "https://localhost:8080/"
        },
        "id": "ZcEFGEMPFuhz",
        "outputId": "99a7d457-b9d3-432e-8973-cf686ddbdd96"
      },
      "outputs": [],
      "source": [
        "!nvidia-smi"
      ]
    },
    {
      "cell_type": "code",
      "execution_count": null,
      "metadata": {
        "colab": {
          "base_uri": "https://localhost:8080/"
        },
        "id": "i-0864_dB5Mv",
        "outputId": "56507d29-30f9-4523-f18e-980ba764ab2b"
      },
      "outputs": [],
      "source": [
        "#title install python 3.9\n",
        "\n",
        "!lsb_release -a\n",
        "# !cat /etc/shells\n",
        "# !echo $SHELL\n",
        "!cat /proc/cpuinfo \n",
        "!free -m\n",
        "\n",
        "!sudo apt update -y\n",
        "!sudo apt install software-properties-common -y\n",
        "!sudo add-apt-repository ppa:deadsnakes/ppa -y\n",
        "!sudo apt update -y\n",
        "!sudo apt install python3.9 -y\n",
        "\n",
        "#change alternatives\n",
        "# !sudo update-alternatives --install /usr/bin/python3 python3 /usr/bin/python3.8 1\n",
        "# !sudo update-alternatives --install /usr/bin/python3 python3 /usr/bin/python3.9 2\n",
        "# !update-alternatives --display python3\n",
        "# !sudo update-alternatives --config python3\n",
        "\n",
        "\n",
        "#check python version\n",
        "!python3.9 -V\n",
        "\n",
        "# colab在终端指令执行中可以输入参数，如 -y\n",
        "# colab安装python39更方便\n",
        "!sudo apt-get install python3.9-distutils\n",
        "!curl -sSL https://bootstrap.pypa.io/get-pip.py -o get-pip.py\n",
        "!python3.9 get-pip.py\n",
        "!python3.9 -m pip -V\n",
        "\n",
        "# !python3.9 -m pip install --upgrade pip\n",
        "!python3.9 -m pip install mir_eval==0.6 librosa==0.8.0 pydub==0.25.1\n",
        "!python3.9 -m pip install torch==1.10.2 torchvision torchaudio --extra-index-url https://download.pytorch.org/whl/cu113\n",
        "!python3.9 -m pip install note_seq==0.0.3 transformers==4.17.0  scikit-learn==1.0.2  pandas==1.4.1"
      ]
    },
    {
      "cell_type": "code",
      "execution_count": null,
      "metadata": {
        "colab": {
          "base_uri": "https://localhost:8080/"
        },
        "id": "vNq5APb7EIHR",
        "outputId": "8e2f8d6b-9925-4336-836a-92a7382a7682"
      },
      "outputs": [],
      "source": [
        "# !python3.9 -m pip -V\n",
        "# !python3.9 -m pip list\n",
        "# !python3.9 -c 'import sys; print(sys.path)'\n",
        "\n",
        "# # !python3.9 -m pip install kaggle\n",
        "# %set_env KAGGLE_CONFIG_DIR=/content/drive/MyDrive/kaggle\n",
        "# # 替代export设置kaggle文件夹的位置，路径不能有引号\n",
        "# !kaggle datasets download -d stareven233/maestrov200\n",
        "# # 下载后拉到云盘里，省得以后再下载\n",
        "\n",
        "# from google.colab import drive\n",
        "# drive.mount('/content/drive')\n",
        "!unzip /content/drive/MyDrive/yui.zip -d /content/\n",
        "!unzip /content/drive/MyDrive/datasets/maestrov200.zip -d /content/maestro/"
      ]
    },
    {
      "cell_type": "code",
      "execution_count": null,
      "metadata": {
        "colab": {
          "base_uri": "https://localhost:8080/"
        },
        "id": "8i2eTb9HB5M0",
        "outputId": "049f386d-084d-4480-cad2-f699658865d2"
      },
      "outputs": [],
      "source": [
        "# 为了使用py39的替代方法，代码间不能有空格\n",
        "\n",
        "!python3.9 -c \"\\\n",
        "import sys;\\\n",
        "sys.path.insert(0, r'/content/yui');\\\n",
        "print(sys.path);\\\n",
        "\"\n",
        "\n",
        "# 或\n",
        "!python3.9 -c \\\n",
        "\"import sys;\"\\\n",
        "\"sys.path.insert(0, r'/content/yui');\"\\\n",
        "\"print(sys.path);\"\\\n",
        "# 这种方式拼接的字符串里面不能有注释 # \n",
        "# 因为注释#无法通过;结束，会把后续所有代码都当做注释\n",
        "\n",
        "# 训练，不过colab可以方便地修改代码，用这种方式没有必要\n",
        "!python3.9 -c \\\n",
        "\"import os;\"\\\n",
        "\"import time;\"\\\n",
        "\"import logging;\"\\\n",
        "\"import sys;\"\\\n",
        "\"sys.path.insert(0, r'/content/yui');\"\\\n",
        "\"import torch;\"\\\n",
        "\"from torch.utils.data import DataLoader;\"\\\n",
        "\"from transformers import T5ForConditionalGeneration, T5Config;\"\\\n",
        "\"from transformers.optimization import Adafactor, AdafactorSchedule;\"\\\n",
        "\"from datasets import MaestroDataset, MaestroSampler2, collate_fn;\"\\\n",
        "\"import vocabularies;\"\\\n",
        "\"import config;\"\\\n",
        "\"from config.data import YuiConfigPro;\"\\\n",
        "\"import utils;\"\\\n",
        "\"from train import train, evaluate;\"\\\n",
        "\"resume = True;\"\\\n",
        "\"cf = YuiConfigPro(\"\\\n",
        "\"DATASET_DIR=r'/content/maestro/',\"\\\n",
        "\"DATAMETA_NAME=r'maestro-v3.0.0.csv',\"\\\n",
        "\"WORKSPACE=r'/content/'\"\\\n",
        "\");\"\\"
      ]
    },
    {
      "cell_type": "code",
      "execution_count": 5,
      "metadata": {
        "colab": {
          "base_uri": "https://localhost:8080/"
        },
        "id": "sY3ZQG0YeqM-",
        "outputId": "8a84897f-625b-4f96-a612-b57db24f9953"
      },
      "outputs": [
        {
          "name": "stdout",
          "output_type": "stream",
          "text": [
            "CUDA GPUs are available\n",
            "number of avaliable gpu: 1\n",
            "index of current device: 0\n",
            "device capability: 3.7\n",
            "device name: Tesla K80\n"
          ]
        }
      ],
      "source": [
        "# 升级MAESTROv2.0.0 -> 3.0.0 且 输出gpu信息\n",
        "\n",
        "!python3.9 -c \"\\\n",
        "import sys;\\\n",
        "sys.path.insert(0, r'/content/yui');\\\n",
        "import utils;\\\n",
        "import preprocessors;\\\n",
        "preprocessors.upgrade_maestro('/content/maestro/');\\\n",
        "utils.show_gpu_info();\\\n",
        "\""
      ]
    },
    {
      "cell_type": "code",
      "execution_count": null,
      "metadata": {
        "colab": {
          "base_uri": "https://localhost:8080/"
        },
        "id": "8nrtuzpomzRh",
        "outputId": "4c873c07-c276-4cd8-aea7-62690eab3399"
      },
      "outputs": [],
      "source": [
        "# 训练\n",
        "!python3.9 /content/yui/notebook/colab_train.py"
      ]
    },
    {
      "cell_type": "code",
      "execution_count": null,
      "metadata": {
        "colab": {
          "base_uri": "https://localhost:8080/"
        },
        "id": "cMMhClwUrF-O",
        "outputId": "dfdb47b5-4b24-4ad3-876d-66ef61d99a68"
      },
      "outputs": [],
      "source": [
        "# !rm /content/drive/MyDrive/yui.zip -r\n",
        "!rm /content/logs -r\n",
        "# !python3.9 -m pip list"
      ]
    }
  ],
  "metadata": {
    "accelerator": "GPU",
    "colab": {
      "collapsed_sections": [],
      "name": "yui_colab.ipynb",
      "provenance": []
    },
    "interpreter": {
      "hash": "d5c8e674f5dfa726cbc4d7a25209bb75f43fdf268afb841d4cc164f7f4d4aeee"
    },
    "kernelspec": {
      "display_name": "Python 3.9.10 64-bit",
      "language": "python",
      "name": "python3"
    },
    "language_info": {
      "name": "python",
      "version": "3.9.10"
    },
    "orig_nbformat": 4
  },
  "nbformat": 4,
  "nbformat_minor": 0
}
